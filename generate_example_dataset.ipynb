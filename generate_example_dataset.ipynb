{
  "nbformat": 4,
  "nbformat_minor": 0,
  "metadata": {
    "colab": {
      "provenance": [],
      "authorship_tag": "ABX9TyPlLxtane8plltC9U8VAaCa",
      "include_colab_link": true
    },
    "kernelspec": {
      "name": "python3",
      "display_name": "Python 3"
    },
    "language_info": {
      "name": "python"
    }
  },
  "cells": [
    {
      "cell_type": "markdown",
      "metadata": {
        "id": "view-in-github",
        "colab_type": "text"
      },
      "source": [
        "<a href=\"https://colab.research.google.com/github/ashokreddy606/machine-learning/blob/main/generate_example_dataset.ipynb\" target=\"_parent\"><img src=\"https://colab.research.google.com/assets/colab-badge.svg\" alt=\"Open In Colab\"/></a>"
      ]
    },
    {
      "cell_type": "code",
      "source": [
        "import pandas as pd\n",
        "from sklearn.impute import SimpleImputer\n",
        "\n",
        "def generate_example_dataset():\n",
        "    data = {\n",
        "        'passengerId': [1, 2, 3, 4, 5],\n",
        "        'Name': ['John', 'Jane', 'Bob', 'Alice', 'Charlie'],\n",
        "        'age': [22, None, 25, None, 30],\n",
        "        'Fare': [7.25, 71.28, None, 8.05, 10.5],\n",
        "        'survived': [0, 1, 1, 0, 1]\n",
        "    }\n",
        "    return pd.DataFrame(data)\n",
        "\n",
        "def clean_dataset(df):\n",
        "    print(\"Original Dataset:\")\n",
        "    print(df)\n",
        "\n",
        "\n",
        "    numeric_df = df.select_dtypes(include=\"number\")\n",
        "\n",
        "\n",
        "    imputer = SimpleImputer(strategy=\"mean\")\n",
        "    df_cleaned = pd.DataFrame(imputer.fit_transform(numeric_df), columns=numeric_df.columns)\n",
        "\n",
        "    print(\"Cleaned Dataset:\")\n",
        "    print(df_cleaned)\n",
        "\n",
        "\n",
        "if __name__ == \"__main__\":\n",
        "    example_dataset = generate_example_dataset()\n",
        "    clean_dataset(example_dataset)\n"
      ],
      "metadata": {
        "colab": {
          "base_uri": "https://localhost:8080/"
        },
        "id": "A1ZWEvSn5Go6",
        "outputId": "4e9e7f2f-c447-4264-8975-ce9c1705ad61"
      },
      "execution_count": 2,
      "outputs": [
        {
          "output_type": "stream",
          "name": "stdout",
          "text": [
            "Original Dataset:\n",
            "   passengerId     Name   age   Fare  survived\n",
            "0            1     John  22.0   7.25         0\n",
            "1            2     Jane   NaN  71.28         1\n",
            "2            3      Bob  25.0    NaN         1\n",
            "3            4    Alice   NaN   8.05         0\n",
            "4            5  Charlie  30.0  10.50         1\n",
            "Cleaned Dataset:\n",
            "   passengerId        age   Fare  survived\n",
            "0          1.0  22.000000   7.25       0.0\n",
            "1          2.0  25.666667  71.28       1.0\n",
            "2          3.0  25.000000  24.27       1.0\n",
            "3          4.0  25.666667   8.05       0.0\n",
            "4          5.0  30.000000  10.50       1.0\n"
          ]
        }
      ]
    },
    {
      "cell_type": "code",
      "source": [],
      "metadata": {
        "id": "IFZmwNhH5dK7"
      },
      "execution_count": null,
      "outputs": []
    }
  ]
}